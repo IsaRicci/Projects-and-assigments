{
 "cells": [
  {
   "cell_type": "markdown",
   "id": "445e2ed0",
   "metadata": {},
   "source": [
    "# Importing the file and checking data"
   ]
  },
  {
   "cell_type": "code",
   "execution_count": 1,
   "id": "f0d8c737",
   "metadata": {
    "code_folding": []
   },
   "outputs": [],
   "source": [
    "# importing libraries\n",
    "import pandas as pd # data science essentials\n",
    "import matplotlib.pyplot as plt # essential graphical output\n",
    "import seaborn as sns # enhanced graphical output\n",
    "import numpy as np\n",
    "\n",
    "\n",
    "# specifying file name\n",
    "file = './birthweight_low.xlsx'\n",
    "\n",
    "\n",
    "# reading the file into Python\n",
    "b_wght = pd.read_excel(io = file)\n"
   ]
  },
  {
   "cell_type": "code",
   "execution_count": 2,
   "id": "0654b80c",
   "metadata": {},
   "outputs": [],
   "source": [
    "bweight= b_wght.drop(columns = ['omaps','fmaps'])"
   ]
  },
  {
   "cell_type": "code",
   "execution_count": 3,
   "id": "12c0c881",
   "metadata": {
    "scrolled": true
   },
   "outputs": [
    {
     "data": {
      "text/html": [
       "<div>\n",
       "<style scoped>\n",
       "    .dataframe tbody tr th:only-of-type {\n",
       "        vertical-align: middle;\n",
       "    }\n",
       "\n",
       "    .dataframe tbody tr th {\n",
       "        vertical-align: top;\n",
       "    }\n",
       "\n",
       "    .dataframe thead th {\n",
       "        text-align: right;\n",
       "    }\n",
       "</style>\n",
       "<table border=\"1\" class=\"dataframe\">\n",
       "  <thead>\n",
       "    <tr style=\"text-align: right;\">\n",
       "      <th></th>\n",
       "      <th>mage</th>\n",
       "      <th>meduc</th>\n",
       "      <th>monpre</th>\n",
       "      <th>npvis</th>\n",
       "      <th>fage</th>\n",
       "      <th>feduc</th>\n",
       "      <th>cigs</th>\n",
       "      <th>drink</th>\n",
       "      <th>male</th>\n",
       "      <th>mwhte</th>\n",
       "      <th>mblck</th>\n",
       "      <th>moth</th>\n",
       "      <th>fwhte</th>\n",
       "      <th>fblck</th>\n",
       "      <th>foth</th>\n",
       "      <th>bwght</th>\n",
       "    </tr>\n",
       "  </thead>\n",
       "  <tbody>\n",
       "    <tr>\n",
       "      <th>count</th>\n",
       "      <td>196.00</td>\n",
       "      <td>193.00</td>\n",
       "      <td>196.00</td>\n",
       "      <td>193.00</td>\n",
       "      <td>196.00</td>\n",
       "      <td>189.00</td>\n",
       "      <td>196.00</td>\n",
       "      <td>196.00</td>\n",
       "      <td>196.00</td>\n",
       "      <td>196.00</td>\n",
       "      <td>196.00</td>\n",
       "      <td>196.00</td>\n",
       "      <td>196.00</td>\n",
       "      <td>196.00</td>\n",
       "      <td>196.00</td>\n",
       "      <td>196.00</td>\n",
       "    </tr>\n",
       "    <tr>\n",
       "      <th>mean</th>\n",
       "      <td>40.15</td>\n",
       "      <td>13.91</td>\n",
       "      <td>2.34</td>\n",
       "      <td>11.60</td>\n",
       "      <td>39.29</td>\n",
       "      <td>13.85</td>\n",
       "      <td>10.93</td>\n",
       "      <td>5.40</td>\n",
       "      <td>0.55</td>\n",
       "      <td>0.27</td>\n",
       "      <td>0.38</td>\n",
       "      <td>0.35</td>\n",
       "      <td>0.35</td>\n",
       "      <td>0.34</td>\n",
       "      <td>0.31</td>\n",
       "      <td>3334.09</td>\n",
       "    </tr>\n",
       "    <tr>\n",
       "      <th>std</th>\n",
       "      <td>10.25</td>\n",
       "      <td>2.06</td>\n",
       "      <td>1.36</td>\n",
       "      <td>4.27</td>\n",
       "      <td>8.98</td>\n",
       "      <td>2.63</td>\n",
       "      <td>6.10</td>\n",
       "      <td>3.00</td>\n",
       "      <td>0.50</td>\n",
       "      <td>0.45</td>\n",
       "      <td>0.49</td>\n",
       "      <td>0.48</td>\n",
       "      <td>0.48</td>\n",
       "      <td>0.48</td>\n",
       "      <td>0.46</td>\n",
       "      <td>646.70</td>\n",
       "    </tr>\n",
       "    <tr>\n",
       "      <th>min</th>\n",
       "      <td>23.00</td>\n",
       "      <td>8.00</td>\n",
       "      <td>1.00</td>\n",
       "      <td>2.00</td>\n",
       "      <td>23.00</td>\n",
       "      <td>1.00</td>\n",
       "      <td>0.00</td>\n",
       "      <td>0.00</td>\n",
       "      <td>0.00</td>\n",
       "      <td>0.00</td>\n",
       "      <td>0.00</td>\n",
       "      <td>0.00</td>\n",
       "      <td>0.00</td>\n",
       "      <td>0.00</td>\n",
       "      <td>0.00</td>\n",
       "      <td>697.00</td>\n",
       "    </tr>\n",
       "    <tr>\n",
       "      <th>25%</th>\n",
       "      <td>33.00</td>\n",
       "      <td>12.00</td>\n",
       "      <td>2.00</td>\n",
       "      <td>10.00</td>\n",
       "      <td>34.75</td>\n",
       "      <td>12.00</td>\n",
       "      <td>6.00</td>\n",
       "      <td>4.00</td>\n",
       "      <td>0.00</td>\n",
       "      <td>0.00</td>\n",
       "      <td>0.00</td>\n",
       "      <td>0.00</td>\n",
       "      <td>0.00</td>\n",
       "      <td>0.00</td>\n",
       "      <td>0.00</td>\n",
       "      <td>2916.25</td>\n",
       "    </tr>\n",
       "    <tr>\n",
       "      <th>50%</th>\n",
       "      <td>39.00</td>\n",
       "      <td>14.00</td>\n",
       "      <td>2.00</td>\n",
       "      <td>12.00</td>\n",
       "      <td>38.00</td>\n",
       "      <td>14.00</td>\n",
       "      <td>11.00</td>\n",
       "      <td>5.00</td>\n",
       "      <td>1.00</td>\n",
       "      <td>0.00</td>\n",
       "      <td>0.00</td>\n",
       "      <td>0.00</td>\n",
       "      <td>0.00</td>\n",
       "      <td>0.00</td>\n",
       "      <td>0.00</td>\n",
       "      <td>3452.00</td>\n",
       "    </tr>\n",
       "    <tr>\n",
       "      <th>75%</th>\n",
       "      <td>46.00</td>\n",
       "      <td>16.00</td>\n",
       "      <td>3.00</td>\n",
       "      <td>12.00</td>\n",
       "      <td>43.00</td>\n",
       "      <td>16.00</td>\n",
       "      <td>15.25</td>\n",
       "      <td>7.25</td>\n",
       "      <td>1.00</td>\n",
       "      <td>1.00</td>\n",
       "      <td>1.00</td>\n",
       "      <td>1.00</td>\n",
       "      <td>1.00</td>\n",
       "      <td>1.00</td>\n",
       "      <td>1.00</td>\n",
       "      <td>3759.50</td>\n",
       "    </tr>\n",
       "    <tr>\n",
       "      <th>max</th>\n",
       "      <td>71.00</td>\n",
       "      <td>17.00</td>\n",
       "      <td>8.00</td>\n",
       "      <td>35.00</td>\n",
       "      <td>73.00</td>\n",
       "      <td>17.00</td>\n",
       "      <td>25.00</td>\n",
       "      <td>14.00</td>\n",
       "      <td>1.00</td>\n",
       "      <td>1.00</td>\n",
       "      <td>1.00</td>\n",
       "      <td>1.00</td>\n",
       "      <td>1.00</td>\n",
       "      <td>1.00</td>\n",
       "      <td>1.00</td>\n",
       "      <td>4933.00</td>\n",
       "    </tr>\n",
       "  </tbody>\n",
       "</table>\n",
       "</div>"
      ],
      "text/plain": [
       "         mage   meduc  monpre   npvis    fage   feduc    cigs   drink    male  \\\n",
       "count  196.00  193.00  196.00  193.00  196.00  189.00  196.00  196.00  196.00   \n",
       "mean    40.15   13.91    2.34   11.60   39.29   13.85   10.93    5.40    0.55   \n",
       "std     10.25    2.06    1.36    4.27    8.98    2.63    6.10    3.00    0.50   \n",
       "min     23.00    8.00    1.00    2.00   23.00    1.00    0.00    0.00    0.00   \n",
       "25%     33.00   12.00    2.00   10.00   34.75   12.00    6.00    4.00    0.00   \n",
       "50%     39.00   14.00    2.00   12.00   38.00   14.00   11.00    5.00    1.00   \n",
       "75%     46.00   16.00    3.00   12.00   43.00   16.00   15.25    7.25    1.00   \n",
       "max     71.00   17.00    8.00   35.00   73.00   17.00   25.00   14.00    1.00   \n",
       "\n",
       "        mwhte   mblck    moth   fwhte   fblck    foth    bwght  \n",
       "count  196.00  196.00  196.00  196.00  196.00  196.00   196.00  \n",
       "mean     0.27    0.38    0.35    0.35    0.34    0.31  3334.09  \n",
       "std      0.45    0.49    0.48    0.48    0.48    0.46   646.70  \n",
       "min      0.00    0.00    0.00    0.00    0.00    0.00   697.00  \n",
       "25%      0.00    0.00    0.00    0.00    0.00    0.00  2916.25  \n",
       "50%      0.00    0.00    0.00    0.00    0.00    0.00  3452.00  \n",
       "75%      1.00    1.00    1.00    1.00    1.00    1.00  3759.50  \n",
       "max      1.00    1.00    1.00    1.00    1.00    1.00  4933.00  "
      ]
     },
     "execution_count": 3,
     "metadata": {},
     "output_type": "execute_result"
    }
   ],
   "source": [
    "bweight.describe().round(decimals = 2)"
   ]
  },
  {
   "cell_type": "code",
   "execution_count": 4,
   "id": "8a157c7c",
   "metadata": {},
   "outputs": [
    {
     "name": "stdout",
     "output_type": "stream",
     "text": [
      "mage      False\n",
      "meduc      True\n",
      "monpre    False\n",
      "npvis      True\n",
      "fage      False\n",
      "feduc      True\n",
      "cigs      False\n",
      "drink     False\n",
      "male      False\n",
      "mwhte     False\n",
      "mblck     False\n",
      "moth      False\n",
      "fwhte     False\n",
      "fblck     False\n",
      "foth      False\n",
      "bwght     False\n",
      "dtype: bool\n",
      "**************************************\n",
      "      \n",
      "<class 'pandas.core.frame.DataFrame'>\n",
      "RangeIndex: 196 entries, 0 to 195\n",
      "Data columns (total 16 columns):\n",
      " #   Column  Non-Null Count  Dtype  \n",
      "---  ------  --------------  -----  \n",
      " 0   mage    196 non-null    int64  \n",
      " 1   meduc   193 non-null    float64\n",
      " 2   monpre  196 non-null    int64  \n",
      " 3   npvis   193 non-null    float64\n",
      " 4   fage    196 non-null    int64  \n",
      " 5   feduc   189 non-null    float64\n",
      " 6   cigs    196 non-null    int64  \n",
      " 7   drink   196 non-null    int64  \n",
      " 8   male    196 non-null    int64  \n",
      " 9   mwhte   196 non-null    int64  \n",
      " 10  mblck   196 non-null    int64  \n",
      " 11  moth    196 non-null    int64  \n",
      " 12  fwhte   196 non-null    int64  \n",
      " 13  fblck   196 non-null    int64  \n",
      " 14  foth    196 non-null    int64  \n",
      " 15  bwght   196 non-null    int64  \n",
      "dtypes: float64(3), int64(13)\n",
      "memory usage: 24.6 KB\n"
     ]
    }
   ],
   "source": [
    "#checking for null values\n",
    "print(bweight.isnull().any())\n",
    "print(\"\"\"**************************************\n",
    "      \"\"\")\n",
    "bweight.info()\n"
   ]
  },
  {
   "cell_type": "code",
   "execution_count": 5,
   "id": "04861ad2",
   "metadata": {},
   "outputs": [
    {
     "data": {
      "text/plain": [
       "(196, 16)"
      ]
     },
     "execution_count": 5,
     "metadata": {},
     "output_type": "execute_result"
    }
   ],
   "source": [
    "#reviewiong the shape\n",
    "bweight.shape\n",
    "\n"
   ]
  },
  {
   "cell_type": "code",
   "execution_count": 6,
   "id": "62c3cdd2",
   "metadata": {
    "scrolled": true
   },
   "outputs": [
    {
     "data": {
      "image/png": "[encoded data removed]",
      "text/plain": [
       "<Figure size 432x288 with 1 Axes>"
      ]
     },
     "metadata": {
      "needs_background": "light"
     },
     "output_type": "display_data"
    },
    {
     "data": {
      "image/png": "[encoded data removed]",
      "text/plain": [
       "<Figure size 432x288 with 1 Axes>"
      ]
     },
     "metadata": {
      "needs_background": "light"
     },
     "output_type": "display_data"
    },
    {
     "data": {
      "image/png": "[encoded data removed]",
      "text/plain": [
       "<Figure size 432x288 with 1 Axes>"
      ]
     },
     "metadata": {
      "needs_background": "light"
     },
     "output_type": "display_data"
    },
    {
     "data": {
      "image/png": "[encoded data removed]",
      "text/plain": [
       "<Figure size 432x288 with 1 Axes>"
      ]
     },
     "metadata": {
      "needs_background": "light"
     },
     "output_type": "display_data"
    },
    {
     "data": {
      "image/png": "[encoded data removed]",
      "text/plain": [
       "<Figure size 432x288 with 1 Axes>"
      ]
     },
     "metadata": {
      "needs_background": "light"
     },
     "output_type": "display_data"
    },
    {
     "data": {
      "image/png": "[encoded data removed]",
      "text/plain": [
       "<Figure size 432x288 with 1 Axes>"
      ]
     },
     "metadata": {
      "needs_background": "light"
     },
     "output_type": "display_data"
    }
   ],
   "source": [
    "conti = ['mage','meduc','fage','feduc','cigs','drink',] #separating continuos columns for histogram to visualize skewness\n",
    "\n",
    "for col in conti: \n",
    "    # developing a histogram using a for loop\n",
    "    sns.histplot(data  = bweight,\n",
    "             x     = col,\n",
    "            kde    = True)\n",
    "\n",
    "\n",
    "    # title and axis labels\n",
    "    plt.title(label   = \"birth weight\")\n",
    "    plt.xlabel(xlabel = col) # avoiding using dataset labels\n",
    "    plt.ylabel(ylabel = \"Count\")\n",
    "\n",
    "\n",
    "    # displaying the histogram\n",
    "    plt.show()"
   ]
  },
  {
   "cell_type": "markdown",
   "id": "99ac0724",
   "metadata": {},
   "source": [
    "# Replacing missing values"
   ]
  },
  {
   "cell_type": "code",
   "execution_count": 7,
   "id": "184d6faa",
   "metadata": {},
   "outputs": [],
   "source": [
    "#replacing null values in meduc\n",
    "meduc_med = bweight ['meduc'].mean()\n",
    "bweight['meduc'].fillna(value = meduc_med,\n",
    "                       inplace = True)\n",
    "#replacing null values in npvis\n",
    "npvis_med = bweight ['npvis'].median()\n",
    "bweight['npvis'].fillna(value = npvis_med,\n",
    "                       inplace = True)\n",
    "\n",
    "#replacing null values in feduc\n",
    "feduc_med = bweight ['feduc'].mean()\n",
    "bweight['feduc'].fillna(value = feduc_med,\n",
    "                       inplace = True)\n"
   ]
  },
  {
   "cell_type": "code",
   "execution_count": 8,
   "id": "9fe969c8",
   "metadata": {},
   "outputs": [
    {
     "name": "stdout",
     "output_type": "stream",
     "text": [
      "mage      False\n",
      "meduc     False\n",
      "monpre    False\n",
      "npvis     False\n",
      "fage      False\n",
      "feduc     False\n",
      "cigs      False\n",
      "drink     False\n",
      "male      False\n",
      "mwhte     False\n",
      "mblck     False\n",
      "moth      False\n",
      "fwhte     False\n",
      "fblck     False\n",
      "foth      False\n",
      "bwght     False\n",
      "dtype: bool\n"
     ]
    }
   ],
   "source": [
    "print(bweight.isnull().any())"
   ]
  },
  {
   "cell_type": "code",
   "execution_count": 9,
   "id": "6c7ce1e9",
   "metadata": {},
   "outputs": [
    {
     "data": {
      "text/html": [
       "<div>\n",
       "<style scoped>\n",
       "    .dataframe tbody tr th:only-of-type {\n",
       "        vertical-align: middle;\n",
       "    }\n",
       "\n",
       "    .dataframe tbody tr th {\n",
       "        vertical-align: top;\n",
       "    }\n",
       "\n",
       "    .dataframe thead th {\n",
       "        text-align: right;\n",
       "    }\n",
       "</style>\n",
       "<table border=\"1\" class=\"dataframe\">\n",
       "  <thead>\n",
       "    <tr style=\"text-align: right;\">\n",
       "      <th></th>\n",
       "      <th>mage</th>\n",
       "      <th>meduc</th>\n",
       "      <th>monpre</th>\n",
       "      <th>npvis</th>\n",
       "      <th>fage</th>\n",
       "      <th>feduc</th>\n",
       "      <th>cigs</th>\n",
       "      <th>drink</th>\n",
       "      <th>male</th>\n",
       "      <th>mwhte</th>\n",
       "      <th>mblck</th>\n",
       "      <th>moth</th>\n",
       "      <th>fwhte</th>\n",
       "      <th>fblck</th>\n",
       "      <th>foth</th>\n",
       "      <th>bwght</th>\n",
       "    </tr>\n",
       "  </thead>\n",
       "  <tbody>\n",
       "    <tr>\n",
       "      <th>count</th>\n",
       "      <td>196.000000</td>\n",
       "      <td>196.000000</td>\n",
       "      <td>196.000000</td>\n",
       "      <td>196.000000</td>\n",
       "      <td>196.000000</td>\n",
       "      <td>196.000000</td>\n",
       "      <td>196.000000</td>\n",
       "      <td>196.000000</td>\n",
       "      <td>196.000000</td>\n",
       "      <td>196.000000</td>\n",
       "      <td>196.000000</td>\n",
       "      <td>196.000000</td>\n",
       "      <td>196.000000</td>\n",
       "      <td>196.000000</td>\n",
       "      <td>196.000000</td>\n",
       "      <td>196.000000</td>\n",
       "    </tr>\n",
       "    <tr>\n",
       "      <th>mean</th>\n",
       "      <td>40.153061</td>\n",
       "      <td>13.911917</td>\n",
       "      <td>2.341837</td>\n",
       "      <td>11.607143</td>\n",
       "      <td>39.290816</td>\n",
       "      <td>13.846561</td>\n",
       "      <td>10.928571</td>\n",
       "      <td>5.397959</td>\n",
       "      <td>0.551020</td>\n",
       "      <td>0.270408</td>\n",
       "      <td>0.382653</td>\n",
       "      <td>0.346939</td>\n",
       "      <td>0.346939</td>\n",
       "      <td>0.341837</td>\n",
       "      <td>0.311224</td>\n",
       "      <td>3334.086735</td>\n",
       "    </tr>\n",
       "    <tr>\n",
       "      <th>std</th>\n",
       "      <td>10.250055</td>\n",
       "      <td>2.039988</td>\n",
       "      <td>1.355136</td>\n",
       "      <td>4.234625</td>\n",
       "      <td>8.982725</td>\n",
       "      <td>2.586504</td>\n",
       "      <td>6.101282</td>\n",
       "      <td>3.001674</td>\n",
       "      <td>0.498664</td>\n",
       "      <td>0.445308</td>\n",
       "      <td>0.487279</td>\n",
       "      <td>0.477215</td>\n",
       "      <td>0.477215</td>\n",
       "      <td>0.475540</td>\n",
       "      <td>0.464180</td>\n",
       "      <td>646.700904</td>\n",
       "    </tr>\n",
       "    <tr>\n",
       "      <th>min</th>\n",
       "      <td>23.000000</td>\n",
       "      <td>8.000000</td>\n",
       "      <td>1.000000</td>\n",
       "      <td>2.000000</td>\n",
       "      <td>23.000000</td>\n",
       "      <td>1.000000</td>\n",
       "      <td>0.000000</td>\n",
       "      <td>0.000000</td>\n",
       "      <td>0.000000</td>\n",
       "      <td>0.000000</td>\n",
       "      <td>0.000000</td>\n",
       "      <td>0.000000</td>\n",
       "      <td>0.000000</td>\n",
       "      <td>0.000000</td>\n",
       "      <td>0.000000</td>\n",
       "      <td>697.000000</td>\n",
       "    </tr>\n",
       "    <tr>\n",
       "      <th>25%</th>\n",
       "      <td>33.000000</td>\n",
       "      <td>12.000000</td>\n",
       "      <td>2.000000</td>\n",
       "      <td>10.000000</td>\n",
       "      <td>34.750000</td>\n",
       "      <td>12.000000</td>\n",
       "      <td>6.000000</td>\n",
       "      <td>4.000000</td>\n",
       "      <td>0.000000</td>\n",
       "      <td>0.000000</td>\n",
       "      <td>0.000000</td>\n",
       "      <td>0.000000</td>\n",
       "      <td>0.000000</td>\n",
       "      <td>0.000000</td>\n",
       "      <td>0.000000</td>\n",
       "      <td>2916.250000</td>\n",
       "    </tr>\n",
       "    <tr>\n",
       "      <th>50%</th>\n",
       "      <td>39.000000</td>\n",
       "      <td>14.000000</td>\n",
       "      <td>2.000000</td>\n",
       "      <td>12.000000</td>\n",
       "      <td>38.000000</td>\n",
       "      <td>14.000000</td>\n",
       "      <td>11.000000</td>\n",
       "      <td>5.000000</td>\n",
       "      <td>1.000000</td>\n",
       "      <td>0.000000</td>\n",
       "      <td>0.000000</td>\n",
       "      <td>0.000000</td>\n",
       "      <td>0.000000</td>\n",
       "      <td>0.000000</td>\n",
       "      <td>0.000000</td>\n",
       "      <td>3452.000000</td>\n",
       "    </tr>\n",
       "    <tr>\n",
       "      <th>75%</th>\n",
       "      <td>46.000000</td>\n",
       "      <td>16.000000</td>\n",
       "      <td>3.000000</td>\n",
       "      <td>12.000000</td>\n",
       "      <td>43.000000</td>\n",
       "      <td>16.000000</td>\n",
       "      <td>15.250000</td>\n",
       "      <td>7.250000</td>\n",
       "      <td>1.000000</td>\n",
       "      <td>1.000000</td>\n",
       "      <td>1.000000</td>\n",
       "      <td>1.000000</td>\n",
       "      <td>1.000000</td>\n",
       "      <td>1.000000</td>\n",
       "      <td>1.000000</td>\n",
       "      <td>3759.500000</td>\n",
       "    </tr>\n",
       "    <tr>\n",
       "      <th>max</th>\n",
       "      <td>71.000000</td>\n",
       "      <td>17.000000</td>\n",
       "      <td>8.000000</td>\n",
       "      <td>35.000000</td>\n",
       "      <td>73.000000</td>\n",
       "      <td>17.000000</td>\n",
       "      <td>25.000000</td>\n",
       "      <td>14.000000</td>\n",
       "      <td>1.000000</td>\n",
       "      <td>1.000000</td>\n",
       "      <td>1.000000</td>\n",
       "      <td>1.000000</td>\n",
       "      <td>1.000000</td>\n",
       "      <td>1.000000</td>\n",
       "      <td>1.000000</td>\n",
       "      <td>4933.000000</td>\n",
       "    </tr>\n",
       "  </tbody>\n",
       "</table>\n",
       "</div>"
      ],
      "text/plain": [
       "             mage       meduc      monpre       npvis        fage       feduc  \\\n",
       "count  196.000000  196.000000  196.000000  196.000000  196.000000  196.000000   \n",
       "mean    40.153061   13.911917    2.341837   11.607143   39.290816   13.846561   \n",
       "std     10.250055    2.039988    1.355136    4.234625    8.982725    2.586504   \n",
       "min     23.000000    8.000000    1.000000    2.000000   23.000000    1.000000   \n",
       "25%     33.000000   12.000000    2.000000   10.000000   34.750000   12.000000   \n",
       "50%     39.000000   14.000000    2.000000   12.000000   38.000000   14.000000   \n",
       "75%     46.000000   16.000000    3.000000   12.000000   43.000000   16.000000   \n",
       "max     71.000000   17.000000    8.000000   35.000000   73.000000   17.000000   \n",
       "\n",
       "             cigs       drink        male       mwhte       mblck        moth  \\\n",
       "count  196.000000  196.000000  196.000000  196.000000  196.000000  196.000000   \n",
       "mean    10.928571    5.397959    0.551020    0.270408    0.382653    0.346939   \n",
       "std      6.101282    3.001674    0.498664    0.445308    0.487279    0.477215   \n",
       "min      0.000000    0.000000    0.000000    0.000000    0.000000    0.000000   \n",
       "25%      6.000000    4.000000    0.000000    0.000000    0.000000    0.000000   \n",
       "50%     11.000000    5.000000    1.000000    0.000000    0.000000    0.000000   \n",
       "75%     15.250000    7.250000    1.000000    1.000000    1.000000    1.000000   \n",
       "max     25.000000   14.000000    1.000000    1.000000    1.000000    1.000000   \n",
       "\n",
       "            fwhte       fblck        foth        bwght  \n",
       "count  196.000000  196.000000  196.000000   196.000000  \n",
       "mean     0.346939    0.341837    0.311224  3334.086735  \n",
       "std      0.477215    0.475540    0.464180   646.700904  \n",
       "min      0.000000    0.000000    0.000000   697.000000  \n",
       "25%      0.000000    0.000000    0.000000  2916.250000  \n",
       "50%      0.000000    0.000000    0.000000  3452.000000  \n",
       "75%      1.000000    1.000000    1.000000  3759.500000  \n",
       "max      1.000000    1.000000    1.000000  4933.000000  "
      ]
     },
     "execution_count": 9,
     "metadata": {},
     "output_type": "execute_result"
    }
   ],
   "source": [
    "#going over the description\n",
    "bweight.describe()"
   ]
  },
  {
   "cell_type": "code",
   "execution_count": 10,
   "id": "a361c7c5",
   "metadata": {},
   "outputs": [
    {
     "data": {
      "image/png": "[encoded data removed]",
      "text/plain": [
       "<Figure size 432x288 with 1 Axes>"
      ]
     },
     "metadata": {
      "needs_background": "light"
     },
     "output_type": "display_data"
    },
    {
     "data": {
      "image/png": "[encoded data removed]",
      "text/plain": [
       "<Figure size 432x288 with 1 Axes>"
      ]
     },
     "metadata": {
      "needs_background": "light"
     },
     "output_type": "display_data"
    },
    {
     "data": {
      "image/png": "[encoded data removed]",
      "text/plain": [
       "<Figure size 432x288 with 1 Axes>"
      ]
     },
     "metadata": {
      "needs_background": "light"
     },
     "output_type": "display_data"
    },
    {
     "data": {
      "image/png": "[encoded data removed]",
      "text/plain": [
       "<Figure size 432x288 with 1 Axes>"
      ]
     },
     "metadata": {
      "needs_background": "light"
     },
     "output_type": "display_data"
    },
    {
     "data": {
      "image/png": "[encoded data removed]",
      "text/plain": [
       "<Figure size 432x288 with 1 Axes>"
      ]
     },
     "metadata": {
      "needs_background": "light"
     },
     "output_type": "display_data"
    },
    {
     "data": {
      "image/png": "[encoded data removed]",
      "text/plain": [
       "<Figure size 432x288 with 1 Axes>"
      ]
     },
     "metadata": {
      "needs_background": "light"
     },
     "output_type": "display_data"
    }
   ],
   "source": [
    "#developing scaterplots for continous variables\n",
    "for col in conti:\n",
    " \n",
    "    # developing a scatterplot\n",
    "    plt.subplot()\n",
    "    sns.scatterplot(x = bweight[col],\n",
    "                    y = bweight['bwght'])\n",
    "\n",
    "\n",
    "    # adding labels but not adding title\n",
    "    plt.xlabel(xlabel = col)\n",
    "    plt.ylabel(ylabel = 'birth weight')\n",
    "\n",
    "    plt.show()\n"
   ]
  },
  {
   "cell_type": "code",
   "execution_count": 11,
   "id": "8bd231ca",
   "metadata": {},
   "outputs": [
    {
     "data": {
      "image/png": "[encoded data removed]",
      "text/plain": [
       "<Figure size 1080x720 with 1 Axes>"
      ]
     },
     "metadata": {
      "needs_background": "light"
     },
     "output_type": "display_data"
    },
    {
     "data": {
      "image/png": "[encoded data removed]",
      "text/plain": [
       "<Figure size 1080x720 with 1 Axes>"
      ]
     },
     "metadata": {
      "needs_background": "light"
     },
     "output_type": "display_data"
    },
    {
     "data": {
      "image/png": "[encoded data removed]",
      "text/plain": [
       "<Figure size 1080x720 with 1 Axes>"
      ]
     },
     "metadata": {
      "needs_background": "light"
     },
     "output_type": "display_data"
    },
    {
     "data": {
      "image/png": "[encoded data removed]",
      "text/plain": [
       "<Figure size 1080x720 with 1 Axes>"
      ]
     },
     "metadata": {
      "needs_background": "light"
     },
     "output_type": "display_data"
    },
    {
     "data": {
      "image/png": "[encoded data removed]",
      "text/plain": [
       "<Figure size 1080x720 with 1 Axes>"
      ]
     },
     "metadata": {
      "needs_background": "light"
     },
     "output_type": "display_data"
    },
    {
     "data": {
      "image/png": "[encoded data removed]",
      "text/plain": [
       "<Figure size 1080x720 with 1 Axes>"
      ]
     },
     "metadata": {
      "needs_background": "light"
     },
     "output_type": "display_data"
    },
    {
     "data": {
      "image/png": "[encoded data removed]",
      "text/plain": [
       "<Figure size 1080x720 with 1 Axes>"
      ]
     },
     "metadata": {
      "needs_background": "light"
     },
     "output_type": "display_data"
    },
    {
     "data": {
      "image/png": "[encoded data removed]",
      "text/plain": [
       "<Figure size 1080x720 with 1 Axes>"
      ]
     },
     "metadata": {
      "needs_background": "light"
     },
     "output_type": "display_data"
    },
    {
     "data": {
      "image/png": "[encoded data removed]",
      "text/plain": [
       "<Figure size 1080x720 with 1 Axes>"
      ]
     },
     "metadata": {
      "needs_background": "light"
     },
     "output_type": "display_data"
    }
   ],
   "source": [
    "#creting box plots for count columns\n",
    "colu = ['monpre', 'npvis','male', 'mwhte','moth','fwhte','fblck','foth' ,'feduc']\n",
    "for col in colu: \n",
    "    fig, ax = plt.subplots(figsize = (15, 10))\n",
    "    sns.boxplot(x    = col,\n",
    "                y    = 'bwght',\n",
    "                data = bweight)\n",
    "\n",
    "\n",
    "    # titles and axis labels\n",
    "    plt.title(label   = 'Boxplot with Interval Data')\n",
    "    plt.xlabel(xlabel = col)\n",
    "    plt.ylabel(ylabel = 'birth weight')\n",
    "\n",
    "\n",
    "    # displaying the plot\n",
    "    plt.show()"
   ]
  },
  {
   "cell_type": "code",
   "execution_count": 12,
   "id": "3d9c20c7",
   "metadata": {
    "scrolled": true
   },
   "outputs": [
    {
     "data": {
      "text/html": [
       "<div>\n",
       "<style scoped>\n",
       "    .dataframe tbody tr th:only-of-type {\n",
       "        vertical-align: middle;\n",
       "    }\n",
       "\n",
       "    .dataframe tbody tr th {\n",
       "        vertical-align: top;\n",
       "    }\n",
       "\n",
       "    .dataframe thead th {\n",
       "        text-align: right;\n",
       "    }\n",
       "</style>\n",
       "<table border=\"1\" class=\"dataframe\">\n",
       "  <thead>\n",
       "    <tr style=\"text-align: right;\">\n",
       "      <th></th>\n",
       "      <th>mage</th>\n",
       "      <th>meduc</th>\n",
       "      <th>monpre</th>\n",
       "      <th>npvis</th>\n",
       "      <th>fage</th>\n",
       "      <th>feduc</th>\n",
       "      <th>cigs</th>\n",
       "      <th>drink</th>\n",
       "      <th>male</th>\n",
       "      <th>mwhte</th>\n",
       "      <th>mblck</th>\n",
       "      <th>moth</th>\n",
       "      <th>fwhte</th>\n",
       "      <th>fblck</th>\n",
       "      <th>foth</th>\n",
       "      <th>bwght</th>\n",
       "    </tr>\n",
       "  </thead>\n",
       "  <tbody>\n",
       "    <tr>\n",
       "      <th>mage</th>\n",
       "      <td>1.000000</td>\n",
       "      <td>-0.094667</td>\n",
       "      <td>0.164198</td>\n",
       "      <td>-0.051656</td>\n",
       "      <td>0.583608</td>\n",
       "      <td>-0.087565</td>\n",
       "      <td>0.167293</td>\n",
       "      <td>0.336698</td>\n",
       "      <td>-0.049694</td>\n",
       "      <td>0.007738</td>\n",
       "      <td>-0.024107</td>\n",
       "      <td>0.017395</td>\n",
       "      <td>-0.082203</td>\n",
       "      <td>0.035503</td>\n",
       "      <td>0.048140</td>\n",
       "      <td>-0.463811</td>\n",
       "    </tr>\n",
       "    <tr>\n",
       "      <th>meduc</th>\n",
       "      <td>-0.094667</td>\n",
       "      <td>1.000000</td>\n",
       "      <td>-0.232227</td>\n",
       "      <td>0.138533</td>\n",
       "      <td>-0.070047</td>\n",
       "      <td>0.619812</td>\n",
       "      <td>0.103515</td>\n",
       "      <td>-0.071958</td>\n",
       "      <td>-0.034034</td>\n",
       "      <td>-0.284131</td>\n",
       "      <td>-0.193366</td>\n",
       "      <td>0.462578</td>\n",
       "      <td>-0.184425</td>\n",
       "      <td>-0.233583</td>\n",
       "      <td>0.428903</td>\n",
       "      <td>0.094918</td>\n",
       "    </tr>\n",
       "    <tr>\n",
       "      <th>monpre</th>\n",
       "      <td>0.164198</td>\n",
       "      <td>-0.232227</td>\n",
       "      <td>1.000000</td>\n",
       "      <td>-0.342874</td>\n",
       "      <td>0.042767</td>\n",
       "      <td>-0.291069</td>\n",
       "      <td>-0.058436</td>\n",
       "      <td>0.015553</td>\n",
       "      <td>-0.075269</td>\n",
       "      <td>0.075486</td>\n",
       "      <td>0.134837</td>\n",
       "      <td>-0.208120</td>\n",
       "      <td>0.037708</td>\n",
       "      <td>0.032603</td>\n",
       "      <td>-0.072167</td>\n",
       "      <td>-0.051827</td>\n",
       "    </tr>\n",
       "    <tr>\n",
       "      <th>npvis</th>\n",
       "      <td>-0.051656</td>\n",
       "      <td>0.138533</td>\n",
       "      <td>-0.342874</td>\n",
       "      <td>1.000000</td>\n",
       "      <td>-0.062502</td>\n",
       "      <td>0.026661</td>\n",
       "      <td>0.037018</td>\n",
       "      <td>-0.067520</td>\n",
       "      <td>0.003469</td>\n",
       "      <td>0.040307</td>\n",
       "      <td>-0.093286</td>\n",
       "      <td>0.057642</td>\n",
       "      <td>0.034802</td>\n",
       "      <td>-0.067940</td>\n",
       "      <td>0.033823</td>\n",
       "      <td>0.062091</td>\n",
       "    </tr>\n",
       "    <tr>\n",
       "      <th>fage</th>\n",
       "      <td>0.583608</td>\n",
       "      <td>-0.070047</td>\n",
       "      <td>0.042767</td>\n",
       "      <td>-0.062502</td>\n",
       "      <td>1.000000</td>\n",
       "      <td>-0.013011</td>\n",
       "      <td>0.174795</td>\n",
       "      <td>0.291435</td>\n",
       "      <td>-0.085186</td>\n",
       "      <td>0.035367</td>\n",
       "      <td>-0.057187</td>\n",
       "      <td>0.025391</td>\n",
       "      <td>-0.027247</td>\n",
       "      <td>-0.032996</td>\n",
       "      <td>0.061815</td>\n",
       "      <td>-0.395985</td>\n",
       "    </tr>\n",
       "    <tr>\n",
       "      <th>feduc</th>\n",
       "      <td>-0.087565</td>\n",
       "      <td>0.619812</td>\n",
       "      <td>-0.291069</td>\n",
       "      <td>0.026661</td>\n",
       "      <td>-0.013011</td>\n",
       "      <td>1.000000</td>\n",
       "      <td>0.049370</td>\n",
       "      <td>-0.121813</td>\n",
       "      <td>0.074765</td>\n",
       "      <td>-0.413482</td>\n",
       "      <td>-0.127814</td>\n",
       "      <td>0.516346</td>\n",
       "      <td>-0.356138</td>\n",
       "      <td>-0.149566</td>\n",
       "      <td>0.519365</td>\n",
       "      <td>0.131320</td>\n",
       "    </tr>\n",
       "    <tr>\n",
       "      <th>cigs</th>\n",
       "      <td>0.167293</td>\n",
       "      <td>0.103515</td>\n",
       "      <td>-0.058436</td>\n",
       "      <td>0.037018</td>\n",
       "      <td>0.174795</td>\n",
       "      <td>0.049370</td>\n",
       "      <td>1.000000</td>\n",
       "      <td>0.355779</td>\n",
       "      <td>-0.115098</td>\n",
       "      <td>0.033570</td>\n",
       "      <td>-0.197749</td>\n",
       "      <td>0.170593</td>\n",
       "      <td>-0.007297</td>\n",
       "      <td>-0.193035</td>\n",
       "      <td>0.205261</td>\n",
       "      <td>-0.572385</td>\n",
       "    </tr>\n",
       "    <tr>\n",
       "      <th>drink</th>\n",
       "      <td>0.336698</td>\n",
       "      <td>-0.071958</td>\n",
       "      <td>0.015553</td>\n",
       "      <td>-0.067520</td>\n",
       "      <td>0.291435</td>\n",
       "      <td>-0.121813</td>\n",
       "      <td>0.355779</td>\n",
       "      <td>1.000000</td>\n",
       "      <td>-0.092433</td>\n",
       "      <td>0.164619</td>\n",
       "      <td>-0.111658</td>\n",
       "      <td>-0.039600</td>\n",
       "      <td>0.071382</td>\n",
       "      <td>-0.095792</td>\n",
       "      <td>0.024750</td>\n",
       "      <td>-0.743125</td>\n",
       "    </tr>\n",
       "    <tr>\n",
       "      <th>male</th>\n",
       "      <td>-0.049694</td>\n",
       "      <td>-0.034034</td>\n",
       "      <td>-0.075269</td>\n",
       "      <td>0.003469</td>\n",
       "      <td>-0.085186</td>\n",
       "      <td>0.074765</td>\n",
       "      <td>-0.115098</td>\n",
       "      <td>-0.092433</td>\n",
       "      <td>1.000000</td>\n",
       "      <td>-0.097089</td>\n",
       "      <td>0.119737</td>\n",
       "      <td>-0.031665</td>\n",
       "      <td>-0.031665</td>\n",
       "      <td>0.109894</td>\n",
       "      <td>-0.080029</td>\n",
       "      <td>0.114855</td>\n",
       "    </tr>\n",
       "    <tr>\n",
       "      <th>mwhte</th>\n",
       "      <td>0.007738</td>\n",
       "      <td>-0.284131</td>\n",
       "      <td>0.075486</td>\n",
       "      <td>0.040307</td>\n",
       "      <td>0.035367</td>\n",
       "      <td>-0.413482</td>\n",
       "      <td>0.033570</td>\n",
       "      <td>0.164619</td>\n",
       "      <td>-0.097089</td>\n",
       "      <td>1.000000</td>\n",
       "      <td>-0.479300</td>\n",
       "      <td>-0.443731</td>\n",
       "      <td>0.835258</td>\n",
       "      <td>-0.438745</td>\n",
       "      <td>-0.409230</td>\n",
       "      <td>-0.114388</td>\n",
       "    </tr>\n",
       "    <tr>\n",
       "      <th>mblck</th>\n",
       "      <td>-0.024107</td>\n",
       "      <td>-0.193366</td>\n",
       "      <td>0.134837</td>\n",
       "      <td>-0.093286</td>\n",
       "      <td>-0.057187</td>\n",
       "      <td>-0.127814</td>\n",
       "      <td>-0.197749</td>\n",
       "      <td>-0.111658</td>\n",
       "      <td>0.119737</td>\n",
       "      <td>-0.479300</td>\n",
       "      <td>1.000000</td>\n",
       "      <td>-0.573836</td>\n",
       "      <td>-0.463569</td>\n",
       "      <td>0.893256</td>\n",
       "      <td>-0.438529</td>\n",
       "      <td>0.126145</td>\n",
       "    </tr>\n",
       "    <tr>\n",
       "      <th>moth</th>\n",
       "      <td>0.017395</td>\n",
       "      <td>0.462578</td>\n",
       "      <td>-0.208120</td>\n",
       "      <td>0.057642</td>\n",
       "      <td>0.025391</td>\n",
       "      <td>0.516346</td>\n",
       "      <td>0.170593</td>\n",
       "      <td>-0.039600</td>\n",
       "      <td>-0.031665</td>\n",
       "      <td>-0.443731</td>\n",
       "      <td>-0.573836</td>\n",
       "      <td>1.000000</td>\n",
       "      <td>-0.306066</td>\n",
       "      <td>-0.502684</td>\n",
       "      <td>0.829647</td>\n",
       "      <td>-0.022065</td>\n",
       "    </tr>\n",
       "    <tr>\n",
       "      <th>fwhte</th>\n",
       "      <td>-0.082203</td>\n",
       "      <td>-0.184425</td>\n",
       "      <td>0.037708</td>\n",
       "      <td>0.034802</td>\n",
       "      <td>-0.027247</td>\n",
       "      <td>-0.356138</td>\n",
       "      <td>-0.007297</td>\n",
       "      <td>0.071382</td>\n",
       "      <td>-0.031665</td>\n",
       "      <td>0.835258</td>\n",
       "      <td>-0.463569</td>\n",
       "      <td>-0.306066</td>\n",
       "      <td>1.000000</td>\n",
       "      <td>-0.525281</td>\n",
       "      <td>-0.489945</td>\n",
       "      <td>-0.040909</td>\n",
       "    </tr>\n",
       "    <tr>\n",
       "      <th>fblck</th>\n",
       "      <td>0.035503</td>\n",
       "      <td>-0.233583</td>\n",
       "      <td>0.032603</td>\n",
       "      <td>-0.067940</td>\n",
       "      <td>-0.032996</td>\n",
       "      <td>-0.149566</td>\n",
       "      <td>-0.193035</td>\n",
       "      <td>-0.095792</td>\n",
       "      <td>0.109894</td>\n",
       "      <td>-0.438745</td>\n",
       "      <td>0.893256</td>\n",
       "      <td>-0.502684</td>\n",
       "      <td>-0.525281</td>\n",
       "      <td>1.000000</td>\n",
       "      <td>-0.484441</td>\n",
       "      <td>0.117581</td>\n",
       "    </tr>\n",
       "    <tr>\n",
       "      <th>foth</th>\n",
       "      <td>0.048140</td>\n",
       "      <td>0.428903</td>\n",
       "      <td>-0.072167</td>\n",
       "      <td>0.033823</td>\n",
       "      <td>0.061815</td>\n",
       "      <td>0.519365</td>\n",
       "      <td>0.205261</td>\n",
       "      <td>0.024750</td>\n",
       "      <td>-0.080029</td>\n",
       "      <td>-0.409230</td>\n",
       "      <td>-0.438529</td>\n",
       "      <td>0.829647</td>\n",
       "      <td>-0.489945</td>\n",
       "      <td>-0.484441</td>\n",
       "      <td>1.000000</td>\n",
       "      <td>-0.078401</td>\n",
       "    </tr>\n",
       "    <tr>\n",
       "      <th>bwght</th>\n",
       "      <td>-0.463811</td>\n",
       "      <td>0.094918</td>\n",
       "      <td>-0.051827</td>\n",
       "      <td>0.062091</td>\n",
       "      <td>-0.395985</td>\n",
       "      <td>0.131320</td>\n",
       "      <td>-0.572385</td>\n",
       "      <td>-0.743125</td>\n",
       "      <td>0.114855</td>\n",
       "      <td>-0.114388</td>\n",
       "      <td>0.126145</td>\n",
       "      <td>-0.022065</td>\n",
       "      <td>-0.040909</td>\n",
       "      <td>0.117581</td>\n",
       "      <td>-0.078401</td>\n",
       "      <td>1.000000</td>\n",
       "    </tr>\n",
       "  </tbody>\n",
       "</table>\n",
       "</div>"
      ],
      "text/plain": [
       "            mage     meduc    monpre     npvis      fage     feduc      cigs  \\\n",
       "mage    1.000000 -0.094667  0.164198 -0.051656  0.583608 -0.087565  0.167293   \n",
       "meduc  -0.094667  1.000000 -0.232227  0.138533 -0.070047  0.619812  0.103515   \n",
       "monpre  0.164198 -0.232227  1.000000 -0.342874  0.042767 -0.291069 -0.058436   \n",
       "npvis  -0.051656  0.138533 -0.342874  1.000000 -0.062502  0.026661  0.037018   \n",
       "fage    0.583608 -0.070047  0.042767 -0.062502  1.000000 -0.013011  0.174795   \n",
       "feduc  -0.087565  0.619812 -0.291069  0.026661 -0.013011  1.000000  0.049370   \n",
       "cigs    0.167293  0.103515 -0.058436  0.037018  0.174795  0.049370  1.000000   \n",
       "drink   0.336698 -0.071958  0.015553 -0.067520  0.291435 -0.121813  0.355779   \n",
       "male   -0.049694 -0.034034 -0.075269  0.003469 -0.085186  0.074765 -0.115098   \n",
       "mwhte   0.007738 -0.284131  0.075486  0.040307  0.035367 -0.413482  0.033570   \n",
       "mblck  -0.024107 -0.193366  0.134837 -0.093286 -0.057187 -0.127814 -0.197749   \n",
       "moth    0.017395  0.462578 -0.208120  0.057642  0.025391  0.516346  0.170593   \n",
       "fwhte  -0.082203 -0.184425  0.037708  0.034802 -0.027247 -0.356138 -0.007297   \n",
       "fblck   0.035503 -0.233583  0.032603 -0.067940 -0.032996 -0.149566 -0.193035   \n",
       "foth    0.048140  0.428903 -0.072167  0.033823  0.061815  0.519365  0.205261   \n",
       "bwght  -0.463811  0.094918 -0.051827  0.062091 -0.395985  0.131320 -0.572385   \n",
       "\n",
       "           drink      male     mwhte     mblck      moth     fwhte     fblck  \\\n",
       "mage    0.336698 -0.049694  0.007738 -0.024107  0.017395 -0.082203  0.035503   \n",
       "meduc  -0.071958 -0.034034 -0.284131 -0.193366  0.462578 -0.184425 -0.233583   \n",
       "monpre  0.015553 -0.075269  0.075486  0.134837 -0.208120  0.037708  0.032603   \n",
       "npvis  -0.067520  0.003469  0.040307 -0.093286  0.057642  0.034802 -0.067940   \n",
       "fage    0.291435 -0.085186  0.035367 -0.057187  0.025391 -0.027247 -0.032996   \n",
       "feduc  -0.121813  0.074765 -0.413482 -0.127814  0.516346 -0.356138 -0.149566   \n",
       "cigs    0.355779 -0.115098  0.033570 -0.197749  0.170593 -0.007297 -0.193035   \n",
       "drink   1.000000 -0.092433  0.164619 -0.111658 -0.039600  0.071382 -0.095792   \n",
       "male   -0.092433  1.000000 -0.097089  0.119737 -0.031665 -0.031665  0.109894   \n",
       "mwhte   0.164619 -0.097089  1.000000 -0.479300 -0.443731  0.835258 -0.438745   \n",
       "mblck  -0.111658  0.119737 -0.479300  1.000000 -0.573836 -0.463569  0.893256   \n",
       "moth   -0.039600 -0.031665 -0.443731 -0.573836  1.000000 -0.306066 -0.502684   \n",
       "fwhte   0.071382 -0.031665  0.835258 -0.463569 -0.306066  1.000000 -0.525281   \n",
       "fblck  -0.095792  0.109894 -0.438745  0.893256 -0.502684 -0.525281  1.000000   \n",
       "foth    0.024750 -0.080029 -0.409230 -0.438529  0.829647 -0.489945 -0.484441   \n",
       "bwght  -0.743125  0.114855 -0.114388  0.126145 -0.022065 -0.040909  0.117581   \n",
       "\n",
       "            foth     bwght  \n",
       "mage    0.048140 -0.463811  \n",
       "meduc   0.428903  0.094918  \n",
       "monpre -0.072167 -0.051827  \n",
       "npvis   0.033823  0.062091  \n",
       "fage    0.061815 -0.395985  \n",
       "feduc   0.519365  0.131320  \n",
       "cigs    0.205261 -0.572385  \n",
       "drink   0.024750 -0.743125  \n",
       "male   -0.080029  0.114855  \n",
       "mwhte  -0.409230 -0.114388  \n",
       "mblck  -0.438529  0.126145  \n",
       "moth    0.829647 -0.022065  \n",
       "fwhte  -0.489945 -0.040909  \n",
       "fblck  -0.484441  0.117581  \n",
       "foth    1.000000 -0.078401  \n",
       "bwght  -0.078401  1.000000  "
      ]
     },
     "execution_count": 12,
     "metadata": {},
     "output_type": "execute_result"
    }
   ],
   "source": [
    "bw_corr = bweight.corr(method = 'pearson')\n",
    "bw_corr"
   ]
  },
  {
   "cell_type": "markdown",
   "id": "5f5433db",
   "metadata": {},
   "source": [
    "# Feature engineering"
   ]
  },
  {
   "cell_type": "code",
   "execution_count": 13,
   "id": "7341858a",
   "metadata": {
    "scrolled": true
   },
   "outputs": [
    {
     "data": {
      "text/plain": [
       "mage      0.922193\n",
       "meduc    -0.069835\n",
       "monpre    2.031858\n",
       "npvis     2.226209\n",
       "fage      1.120425\n",
       "feduc    -1.332361\n",
       "cigs      0.031881\n",
       "drink     0.234876\n",
       "male     -0.206738\n",
       "mwhte     1.041790\n",
       "mblck     0.486607\n",
       "moth      0.648090\n",
       "fwhte     0.648090\n",
       "fblck     0.672052\n",
       "foth      0.821757\n",
       "bwght    -0.659832\n",
       "dtype: float64"
      ]
     },
     "execution_count": 13,
     "metadata": {},
     "output_type": "execute_result"
    }
   ],
   "source": [
    "bweight.skew(axis = 0)"
   ]
  },
  {
   "cell_type": "code",
   "execution_count": 14,
   "id": "57d67485",
   "metadata": {
    "scrolled": true
   },
   "outputs": [],
   "source": [
    "logs = ['monpre','npvis','bwght','fage','feduc','mage', 'meduc']\n",
    "for col in logs:\n",
    "    bweight['log_'+col]=np.log(bweight[col]+0.0001)\n",
    "\n"
   ]
  },
  {
   "cell_type": "code",
   "execution_count": 15,
   "id": "fd686cc0",
   "metadata": {},
   "outputs": [],
   "source": [
    "for index, col in bweight.iterrows():\n",
    "    if bweight.loc[index,'monpre']>=6:\n",
    "        bweight.loc[index,'monpre']=6\n",
    "    elif bweight.loc[index,'monpre']<6:\n",
    "        bweight.loc[index,'monpre'] = bweight.loc[index,'monpre']\n",
    "\n",
    "for index, col in bweight.iterrows():\n",
    "    if bweight.loc[index,'cigs']>=18:\n",
    "        bweight.loc[index,'cigs']=18\n",
    "    elif bweight.loc[index,'cigs']<18:\n",
    "        bweight.loc[index,'cigs'] = bweight.loc[index,'cigs']\n",
    "        \n",
    "for index, col in bweight.iterrows():\n",
    "    if bweight.loc[index,'drink']>=10:\n",
    "        bweight.loc[index,'drink']=10\n",
    "    elif bweight.loc[index,'drink']<10:\n",
    "        bweight.loc[index,'drink'] = bweight.loc[index,'drink']\n",
    "        \n",
    "for index, col in bweight.iterrows():\n",
    "    if bweight.loc[index,'mage']>=40:\n",
    "        bweight.loc[index,'mage_old']=\"over_40\"\n",
    "    elif bweight.loc[index,'mage']<40:\n",
    "        bweight.loc[index,'mage_old'] = \"under_40\" \n",
    "        \n",
    "for index, col in bweight.iterrows():\n",
    "    if bweight.loc[index,'fage']>=40:\n",
    "        bweight.loc[index,'fage_old']=\"f_over_40\"\n",
    "    elif bweight.loc[index,'fage']<40:\n",
    "        bweight.loc[index,'fage_old'] = \"f_under_40\" "
   ]
  },
  {
   "cell_type": "code",
   "execution_count": 16,
   "id": "a2f08cae",
   "metadata": {},
   "outputs": [],
   "source": [
    "bweight['age_cigs'] = bweight['mage']*bweight['cigs']\n",
    "bweight['age_cigs_drink'] = bweight['mage']*bweight['cigs']*bweight['drink']\n",
    "bweight['ratio_edu_vis'] = (bweight ['npvis']/bweight['meduc'])\n",
    "bweight['drink2']=bweight['drink']*bweight['drink']\n",
    "bweight['cig2']=bweight['cigs']*bweight['cigs']\n",
    "bweight['meduc2']=bweight['meduc']*bweight['meduc']\n",
    "bweight['fage2']=bweight['fage']*bweight['fage']\n",
    "age_mama = pd.get_dummies(bweight['mage_old'])\n",
    "age_dada = pd.get_dummies(bweight['fage_old'])"
   ]
  },
  {
   "cell_type": "code",
   "execution_count": 17,
   "id": "0048b948",
   "metadata": {},
   "outputs": [],
   "source": [
    "bweight = bweight.join([age_mama])\n",
    "bweight = bweight.join([age_dada])"
   ]
  },
  {
   "cell_type": "code",
   "execution_count": 18,
   "id": "33df439f",
   "metadata": {},
   "outputs": [
    {
     "data": {
      "text/plain": [
       "Index(['mage', 'meduc', 'monpre', 'npvis', 'fage', 'feduc', 'cigs', 'drink',\n",
       "       'male', 'mwhte', 'mblck', 'moth', 'fwhte', 'fblck', 'foth', 'bwght',\n",
       "       'log_monpre', 'log_npvis', 'log_bwght', 'log_fage', 'log_feduc',\n",
       "       'log_mage', 'log_meduc', 'mage_old', 'fage_old', 'age_cigs',\n",
       "       'age_cigs_drink', 'ratio_edu_vis', 'drink2', 'cig2', 'meduc2', 'fage2',\n",
       "       'over_40', 'under_40', 'f_over_40', 'f_under_40'],\n",
       "      dtype='object')"
      ]
     },
     "execution_count": 18,
     "metadata": {},
     "output_type": "execute_result"
    }
   ],
   "source": [
    "bweight.columns"
   ]
  },
  {
   "cell_type": "code",
   "execution_count": 19,
   "id": "59c532bc",
   "metadata": {},
   "outputs": [
    {
     "data": {
      "text/plain": [
       "mage             -0.463811\n",
       "meduc             0.094918\n",
       "monpre           -0.060084\n",
       "npvis             0.062091\n",
       "fage             -0.395985\n",
       "feduc             0.131320\n",
       "cigs             -0.546469\n",
       "drink            -0.725213\n",
       "male              0.114855\n",
       "mwhte            -0.114388\n",
       "mblck             0.126145\n",
       "moth             -0.022065\n",
       "fwhte            -0.040909\n",
       "fblck             0.117581\n",
       "foth             -0.078401\n",
       "bwght             1.000000\n",
       "log_monpre       -0.055462\n",
       "log_npvis         0.159480\n",
       "log_bwght         0.968535\n",
       "log_fage         -0.376706\n",
       "log_feduc         0.164196\n",
       "log_mage         -0.415825\n",
       "log_meduc         0.089744\n",
       "age_cigs         -0.663268\n",
       "age_cigs_drink   -0.808881\n",
       "ratio_edu_vis     0.036619\n",
       "drink2           -0.733913\n",
       "cig2             -0.554029\n",
       "meduc2            0.098577\n",
       "fage2            -0.400469\n",
       "over_40          -0.274311\n",
       "under_40          0.274311\n",
       "f_over_40        -0.320204\n",
       "f_under_40        0.320204\n",
       "Name: bwght, dtype: float64"
      ]
     },
     "execution_count": 19,
     "metadata": {},
     "output_type": "execute_result"
    }
   ],
   "source": [
    "bw_corr = bweight.corr(method = 'pearson')\n",
    "bw_corr.loc[:,'bwght']"
   ]
  },
  {
   "cell_type": "markdown",
   "id": "e3775a44",
   "metadata": {},
   "source": [
    "# running regression"
   ]
  },
  {
   "cell_type": "markdown",
   "id": "6b62a523",
   "metadata": {},
   "source": [
    "## OLS"
   ]
  },
  {
   "cell_type": "code",
   "execution_count": 20,
   "id": "2ca37751",
   "metadata": {},
   "outputs": [],
   "source": [
    "from sklearn.linear_model import LinearRegression\n",
    "from sklearn.metrics import mean_squared_error\n",
    "from sklearn.model_selection import train_test_split\n",
    "from sklearn.linear_model import LinearRegression\n",
    "from sklearn.model_selection import cross_val_score\n",
    "import statsmodels.formula.api as smf"
   ]
  },
  {
   "cell_type": "code",
   "execution_count": 21,
   "id": "d2916011",
   "metadata": {},
   "outputs": [],
   "source": [
    "y = bweight.loc[:, 'bwght']\n",
    "x = bweight.loc[:,['cigs','drink','male','f_under_40','over_40']]"
   ]
  },
  {
   "cell_type": "code",
   "execution_count": 22,
   "id": "9235bc3f",
   "metadata": {},
   "outputs": [],
   "source": [
    "# preparing training and testing sets (all letters are lowercase)\n",
    "x_train, x_test, y_train, y_test = train_test_split(x,y,test_size = 0.25, random_state = 219)\n"
   ]
  },
  {
   "cell_type": "code",
   "execution_count": 23,
   "id": "f566da2f",
   "metadata": {},
   "outputs": [
    {
     "name": "stdout",
     "output_type": "stream",
     "text": [
      " test: 0.6982\n",
      " train: 0.6532\n",
      "gap : -0.045\n"
     ]
    }
   ],
   "source": [
    "# linear regresion\n",
    "from sklearn.linear_model import LinearRegression\n",
    "\n",
    "ols = LinearRegression()\n",
    "ols.fit(x_train, y_train)\n",
    "\n",
    "pred_y = ols.predict(x_test)\n",
    "pred_y_train = ols.predict(x_train)\n",
    "\n",
    "linear_train = ols.score(x_train, y_train).round(decimals=4)\n",
    "linear_test = ols.score(x_test, y_test).round(decimals=4)\n",
    "linear_gap = (linear_train - linear_test).round(decimals = 4)\n",
    "\n",
    "print(f\"\"\" test: {linear_test}\"\"\")\n",
    "print(f\"\"\" train: {linear_train}\"\"\")\n",
    "print(f\"\"\"gap : {linear_gap}\"\"\")"
   ]
  },
  {
   "cell_type": "markdown",
   "id": "bc8e395a",
   "metadata": {},
   "source": [
    "## Lasso"
   ]
  },
  {
   "cell_type": "code",
   "execution_count": 24,
   "id": "d449f140",
   "metadata": {},
   "outputs": [],
   "source": [
    "#alpha\n",
    "alph = 0.5"
   ]
  },
  {
   "cell_type": "code",
   "execution_count": 25,
   "id": "17c1e039",
   "metadata": {},
   "outputs": [
    {
     "name": "stdout",
     "output_type": "stream",
     "text": [
      " test: 0.6993\n",
      " train: 0.6532\n",
      " gap: -0.0461\n"
     ]
    }
   ],
   "source": [
    "#doing Lasso Regresion\n",
    "from sklearn.linear_model import Lasso\n",
    "\n",
    "lasso = Lasso(alpha = alph)\n",
    "lasso.fit(x_train, y_train)\n",
    "\n",
    "pred_y_l = lasso.predict(x_test)\n",
    "pred_y_l_train = lasso.predict(x_train)\n",
    "\n",
    "\n",
    "l_test = lasso.score(x_test, y_test).round(decimals=4)\n",
    "l_train = lasso.score(x_train, y_train).round(decimals=4)\n",
    "l_gap = (l_train - l_test).round(decimals=4)\n",
    "\n",
    "print(f\"\"\" test: {l_test}\"\"\")\n",
    "print(f\"\"\" train: {l_train}\"\"\")\n",
    "print(f\"\"\" gap: {l_gap}\"\"\")"
   ]
  },
  {
   "cell_type": "markdown",
   "id": "f7ee82d5",
   "metadata": {},
   "source": [
    "## ARD"
   ]
  },
  {
   "cell_type": "code",
   "execution_count": 26,
   "id": "a7de5988",
   "metadata": {
    "scrolled": true
   },
   "outputs": [
    {
     "name": "stdout",
     "output_type": "stream",
     "text": [
      " test: 0.7179\n",
      " train: 0.6506\n",
      " train: -0.0673\n"
     ]
    }
   ],
   "source": [
    "from sklearn.linear_model import ARDRegression \n",
    "ARDR = ARDRegression()\n",
    "ARDR.fit(x_train, y_train)\n",
    "\n",
    "pred_y_A = ARDR.predict(x_test)\n",
    "pred_y_A_train = ARDR.predict(x_train)\n",
    "\n",
    "A_test = ARDR.score(x_test, y_test).round(decimals=4)\n",
    "A_train = ARDR.score(x_train, y_train).round(decimals=4)\n",
    "A_gap = (A_train - A_test).round(decimals=4)\n",
    "\n",
    "print(f\"\"\" test: {A_test}\"\"\")\n",
    "print(f\"\"\" train: {A_train}\"\"\")\n",
    "print(f\"\"\" train: {A_gap}\"\"\")"
   ]
  },
  {
   "cell_type": "markdown",
   "id": "77c061d8",
   "metadata": {},
   "source": [
    "## KNN"
   ]
  },
  {
   "cell_type": "code",
   "execution_count": 27,
   "id": "c5440587",
   "metadata": {},
   "outputs": [],
   "source": [
    "#number of neighbors\n",
    "N = 10\n"
   ]
  },
  {
   "cell_type": "code",
   "execution_count": 28,
   "id": "ac8535a2",
   "metadata": {},
   "outputs": [
    {
     "name": "stdout",
     "output_type": "stream",
     "text": [
      " test: 0.6818\n",
      " train: 0.6765\n",
      " train: -0.0053\n"
     ]
    }
   ],
   "source": [
    "#Knn regression\n",
    "from sklearn.neighbors import KNeighborsRegressor\n",
    "\n",
    "knn = KNeighborsRegressor(n_neighbors = N)\n",
    "knn.fit(x_train, y_train)\n",
    "\n",
    "pred_y_k = knn.predict(x_test)\n",
    "pred_y_k_train = knn.predict(x_train)\n",
    "\n",
    "k_test = knn.score(x_test, y_test).round(decimals=4)\n",
    "k_train = knn.score(x_train, y_train).round(decimals=4)\n",
    "k_gap = (k_train - k_test).round(decimals = 4)\n",
    "\n",
    "print(f\"\"\" test: {k_test}\"\"\")\n",
    "print(f\"\"\" train: {k_train}\"\"\")\n",
    "print(f\"\"\" train: {k_gap}\"\"\")\n"
   ]
  },
  {
   "cell_type": "markdown",
   "id": "54ef6da3",
   "metadata": {},
   "source": [
    "Highest So far : 0.65/0.71 - Lasso\n",
    "y = bweight.loc[:, 'bwght']\n",
    "x = bweight.loc[:,['age_cigs_drink','cigs','drink','over_40','f_over_40']]\n",
    "\n",
    "0.65/0.72 - OLs\n",
    "y = bweight.loc[:, 'bwght']\n",
    "x = bweight.loc[:,['age_cigs_drink','cigs','drink','over_40','f_over_40','fwhte']]\n",
    "\n",
    "0.72 - 0.64 ADR\n",
    "y = bweight.loc[:, 'bwght']\n",
    "x = bweight.loc[:,['cigs','drink','male','f_under_40']]"
   ]
  },
  {
   "cell_type": "markdown",
   "id": "5fc7fb14",
   "metadata": {},
   "source": [
    "# Conclusions"
   ]
  },
  {
   "cell_type": "code",
   "execution_count": 29,
   "id": "399b56ff",
   "metadata": {},
   "outputs": [
    {
     "name": "stdout",
     "output_type": "stream",
     "text": [
      "\n",
      "Model      Train Score                   Test Score             Gap\n",
      "-----      -----------                   ----------          ----------\n",
      "OLS        0.6532                       0.6982               -0.045\n",
      "Lasso      0.6532                       0.6993              -0.0461\n",
      "ARD        0.6506                       0.7179              -0.0673\n",
      "\n",
      " ***Model to use ARD\n"
     ]
    }
   ],
   "source": [
    "print(f\"\"\"\n",
    "Model      Train Score                   Test Score             Gap\n",
    "-----      -----------                   ----------          ----------\n",
    "OLS        {linear_train}                       {linear_test}               {linear_gap}\n",
    "Lasso      {l_train}                       {l_test}              {l_gap}\n",
    "ARD        {A_train}                       {A_test}              {A_gap}\n",
    "\"\"\")\n",
    "\n",
    "print(\" ***Model to use ARD\")"
   ]
  },
  {
   "cell_type": "code",
   "execution_count": null,
   "id": "21d8668a",
   "metadata": {},
   "outputs": [],
   "source": []
  }
 ],
 "metadata": {
  "kernelspec": {
   "display_name": "Python 3",
   "language": "python",
   "name": "python3"
  },
  "language_info": {
   "codemirror_mode": {
    "name": "ipython",
    "version": 3
   },
   "file_extension": ".py",
   "mimetype": "text/x-python",
   "name": "python",
   "nbconvert_exporter": "python",
   "pygments_lexer": "ipython3",
   "version": "3.8.8"
  },
  "toc": {
   "base_numbering": 1,
   "nav_menu": {},
   "number_sections": true,
   "sideBar": true,
   "skip_h1_title": false,
   "title_cell": "Table of Contents",
   "title_sidebar": "Contents",
   "toc_cell": false,
   "toc_position": {},
   "toc_section_display": true,
   "toc_window_display": false
  },
  "varInspector": {
   "cols": {
    "lenName": 16,
    "lenType": 16,
    "lenVar": 40
   },
   "kernels_config": {
    "python": {
     "delete_cmd_postfix": "",
     "delete_cmd_prefix": "del ",
     "library": "var_list.py",
     "varRefreshCmd": "print(var_dic_list())"
    },
    "r": {
     "delete_cmd_postfix": ") ",
     "delete_cmd_prefix": "rm(",
     "library": "var_list.r",
     "varRefreshCmd": "cat(var_dic_list()) "
    }
   },
   "types_to_exclude": [
    "module",
    "function",
    "builtin_function_or_method",
    "instance",
    "_Feature"
   ],
   "window_display": false
  }
 },
 "nbformat": 4,
 "nbformat_minor": 5
}
